{
 "cells": [
  {
   "cell_type": "markdown",
   "metadata": {},
   "source": [
    "#TODO (in cloudfunctions):\n",
    "- create function def batch (event): and remove invented event"
   ]
  },
  {
   "cell_type": "markdown",
   "metadata": {},
   "source": [
    "# TODO transformation:\n",
    "- change column table names => DONE\n",
    "- change classes names\n",
    "- delete null valuesç => DONE\n",
    "- Treure tot lo q està amb anglès: clean air, critical low air quality => DONE\n",
    "- Filter with school schedule + weekends + vacations"
   ]
  },
  {
   "cell_type": "code",
   "execution_count": 1,
   "metadata": {},
   "outputs": [],
   "source": [
    "import os\n",
    "import logging\n",
    "from google.cloud import storage, bigquery\n",
    "\n",
    "from utils_gcloud_etl2 import load_json_from_cs, download_storage_file, _storage_connection, _bigquery_connection\n",
    "from utils_etl2 import refactor_df\n",
    "from batch_function import batch_file\n",
    "\n",
    "BUCKET_NAME = os.environ.get('BUCKET_NAME', 'ordino')\n",
    "CONFIG_FILE_NAME = os.environ.get('CONFIG_FILE_NAME', 'config/config.json')\n",
    "\n",
    "# Local testing var:\n",
    "json_key_path = '../config/e3escoles-aed88f04ce6d.json'\n",
    "event = {'name' : 'data/2022-11-14/03A48_3rE_2022-11-14T13_28_02+0100.csv'} #CHANGE 1!"
   ]
  },
  {
   "cell_type": "markdown",
   "metadata": {},
   "source": [
    "### First function: 'batch_main' \n"
   ]
  },
  {
   "cell_type": "code",
   "execution_count": 2,
   "metadata": {},
   "outputs": [],
   "source": [
    "file_path = event['name']\n",
    "\n",
    "# Load the credentials json file\n",
    "cs_client = _storage_connection(json_key_path) # cs_client = storage.Client()\n",
    "bq_client = _bigquery_connection(json_key_path) # bq_client = bigquery.Client()\n",
    "\n",
    "if file_path.split('/')[0] == 'data':\n",
    "    config = load_json_from_cs(cs_client, BUCKET_NAME, CONFIG_FILE_NAME)\n",
    "    #batch_file(bq_client, config, BUCKET_NAME, file_path)"
   ]
  },
  {
   "cell_type": "markdown",
   "metadata": {},
   "source": [
    "### Second function: 'batch_file'"
   ]
  },
  {
   "cell_type": "code",
   "execution_count": 3,
   "metadata": {},
   "outputs": [
    {
     "data": {
      "text/plain": [
       "'df_raw = '"
      ]
     },
     "execution_count": 3,
     "metadata": {},
     "output_type": "execute_result"
    }
   ],
   "source": [
    "import pandas as pd\n",
    "# Load env vars:\n",
    "project_id = config['project_id']\n",
    "data_blob = config['storage_blobs']['data_blob']\n",
    "schema_sensors_path = config['schema_file_names']['schema_sensors_file']\n",
    "bq_dataset = config['bq_dataset']\n",
    "#bq_sensors_table = config['bq_sensors_table']\n",
    "\n",
    "# Build Variables:\n",
    "final_table = ''\n",
    "local_file_path = '../data_samples/' + file_path.split('/')[-1] #local_file_path = '/tmp/' + file_path.split('/')[-1]\n",
    "\n",
    "# Save temporarly the file:\n",
    "download_storage_file(cs_client, BUCKET_NAME, file_path, local_file_path)\n",
    "df = pd.read_csv(local_file_path)\n",
    "dataframe = refactor_df(df, file_path)\n",
    "num_lines_file = len(dataframe)\n",
    "# !! add filtering function IN HERE!!"
   ]
  },
  {
   "cell_type": "code",
   "execution_count": null,
   "metadata": {},
   "outputs": [],
   "source": [
    "df_test = pd.read_csv('../data_samples/0E8DF_Seminari 3_2023-01-30T10_53_41+0100.csv')"
   ]
  },
  {
   "cell_type": "code",
   "execution_count": null,
   "metadata": {},
   "outputs": [],
   "source": [
    "df_test"
   ]
  },
  {
   "cell_type": "code",
   "execution_count": null,
   "metadata": {},
   "outputs": [],
   "source": [
    "df_new = refactor_df(df_test, file_path)"
   ]
  },
  {
   "cell_type": "code",
   "execution_count": null,
   "metadata": {},
   "outputs": [],
   "source": [
    "df_new"
   ]
  },
  {
   "cell_type": "code",
   "execution_count": null,
   "metadata": {},
   "outputs": [],
   "source": [
    "print(df_test.to_string())"
   ]
  },
  {
   "cell_type": "code",
   "execution_count": null,
   "metadata": {},
   "outputs": [],
   "source": [
    "type(df_test['atmospheric_pressure'][0])"
   ]
  },
  {
   "cell_type": "code",
   "execution_count": null,
   "metadata": {},
   "outputs": [],
   "source": [
    "df_test.reset_index(inplace=True)\n",
    "df_test.drop(columns=['index', 'level_0'], inplace=True)\n",
    "df_test['Temperature(°C)'] = full_df['Temperature(°C)'].astype(float)"
   ]
  }
 ],
 "metadata": {
  "kernelspec": {
   "display_name": "Python 3",
   "language": "python",
   "name": "python3"
  },
  "language_info": {
   "codemirror_mode": {
    "name": "ipython",
    "version": 3
   },
   "file_extension": ".py",
   "mimetype": "text/x-python",
   "name": "python",
   "nbconvert_exporter": "python",
   "pygments_lexer": "ipython3",
   "version": "3.11.4"
  }
 },
 "nbformat": 4,
 "nbformat_minor": 2
}
